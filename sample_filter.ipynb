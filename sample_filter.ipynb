{
 "cells": [
  {
   "cell_type": "code",
   "execution_count": null,
   "metadata": {
    "collapsed": true
   },
   "outputs": [],
   "source": [
    "import numpy as np\n",
    "import math\n",
    "import matplotlib.pyplot as plt"
   ]
  },
  {
   "cell_type": "code",
   "execution_count": null,
   "metadata": {},
   "outputs": [],
   "source": [
    "# initial actual state\n",
    "x0 = 0.1\n"
   ]
  },
  {
   "cell_type": "code",
   "execution_count": null,
   "metadata": {},
   "outputs": [],
   "source": [
    "# Noise covariance in the system\n",
    "cs_x = 1"
   ]
  },
  {
   "cell_type": "code",
   "execution_count": null,
   "metadata": {},
   "outputs": [],
   "source": [
    "# Noise covariance in the measurement\n",
    "cs_m = 1"
   ]
  },
  {
   "cell_type": "code",
   "execution_count": null,
   "metadata": {},
   "outputs": [],
   "source": [
    "# duration the chase\n",
    "iter_num = 75"
   ]
  },
  {
   "cell_type": "code",
   "execution_count": null,
   "metadata": {},
   "outputs": [],
   "source": [
    "# number of particles\n",
    "N = 20\n",
    "v = 2"
   ]
  },
  {
   "cell_type": "code",
   "execution_count": null,
   "metadata": {},
   "outputs": [],
   "source": [
    "x_P_update = np.zeros(shape=(N, 1))\n",
    "z_update = np.zeros(shape=(N, 1))\n",
    "P_w = np.zeros(shape=(N, 1))\n",
    "x_p = np.zeros(shape=(N, 1))"
   ]
  },
  {
   "cell_type": "code",
   "execution_count": null,
   "metadata": {},
   "outputs": [],
   "source": [
    "for i in range(N):\n",
    "    x_p[i] = x0 + np.sqrt(v) + np.random.randn()\n",
    "z_out = [x0 ** 2 / 20 + np.sqrt(cs_m) * np.random.randn()]"
   ]
  },
  {
   "cell_type": "code",
   "execution_count": null,
   "metadata": {},
   "outputs": [],
   "source": [
    "# the actual output vector for measurement values.\n",
    "x_out = [x0]  \n",
    "# time by time output of the particle filters estimate\n",
    "x_test = x0  \n",
    "x_test_out = [x_test]"
   ]
  },
  {
   "cell_type": "code",
   "execution_count": null,
   "metadata": {},
   "outputs": [],
   "source": [
    "for t in range(1, iter_num):\n",
    "    #state update\n",
    "    x = 0.5 * x0 + 25 * x0 / (1 + x0 ** 2) + 8 * np.cos(1.2 * (t - 1)) + np.sqrt(cs_x) * np.random.randn()\n",
    "    z = x ** 2 / 20 + np.sqrt(cs_m) * np.random.randn()\n",
    "    for i in range(1, N):  \n",
    "        # position update for each particle\n",
    "        x_P_update[i] = 0.5 * x_p[i] + 25 * x_p[i] / (1 + x_p[i] ** 2) + 8 * math.cos(1.2 * (t - 1)) + np.sqrt(cs_x) * np.random.randn()  \n",
    "        z_update[i] = x_P_update[i] ** 2 / 20\n",
    "        # weights assigned for each particle according to z_update and z,particles with higher relevance assigned larger weights\n",
    "        P_w[i] = (1 / np.sqrt(2 * np.pi * cs_m)) * np.exp(-(z - z_update[i]) ** 2 / (2 * cs_m))  \n",
    "    #normalisation of the weights\n",
    "    P_w[0] = [2.21646841e-76]\n",
    "    P_w = np.divide(P_w, np.sum(P_w)) \n",
    "    mar = np.zeros(shape=(1, 10))\n",
    "    for i in range(1, N):\n",
    "        mar = ((np.random.rand() <= np.cumsum(P_w)))  ## code for resampling optimisation\n",
    "        for io in range(1, 10):\n",
    "            if mar[io] == True:\n",
    "                x_p[i] = x_P_update[io]\n",
    "                break\n",
    "    x_test = np.mean(x_p)\n",
    "    x_out.append(x)\n",
    "    z_out.append(z)\n",
    "    x_test_out.append(x_test)"
   ]
  },
  {
   "cell_type": "code",
   "execution_count": null,
   "metadata": {},
   "outputs": [],
   "source": [
    "# root mean squared error between the estimated and actual positions or states\n",
    "rmse = np.sqrt(np.mean((x_out - x_test) ** 2))\n",
    "print(rmse) "
   ]
  },
  {
   "cell_type": "code",
   "execution_count": null,
   "metadata": {},
   "outputs": [],
   "source": [
    "# plotting out the tracking\n",
    "x1 = np.arange(0, iter_num)\n",
    "plt.plot(x1, x_test_out, label=\"(x_test_out) filtered observation\")  \n",
    "plt.plot(x1, x_out, label=\"(x_out)  observation\")\n",
    "plt.legend()\n",
    "plt.title('Observation and Filtered Observation')\n",
    "plt.show()"
   ]
  }
 ],
 "metadata": {
  "kernelspec": {
   "display_name": "Python 2",
   "language": "python",
   "name": "python2"
  },
  "language_info": {
   "codemirror_mode": {
    "name": "ipython",
    "version": 2
   },
   "file_extension": ".py",
   "mimetype": "text/x-python",
   "name": "python",
   "nbconvert_exporter": "python",
   "pygments_lexer": "ipython2",
   "version": "2.7.6"
  }
 },
 "nbformat": 4,
 "nbformat_minor": 0
}
